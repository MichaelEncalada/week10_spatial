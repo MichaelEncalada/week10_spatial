{
 "cells": [
  {
   "cell_type": "markdown",
   "id": "5f1ab1a7-12d9-415a-a1da-379b42c6ae8e",
   "metadata": {},
   "source": [
    "# Tarea 4: Spatial Data - COVID"
   ]
  },
  {
   "cell_type": "markdown",
   "id": "d571e858-b088-46c6-8b22-dd2e9560e1d4",
   "metadata": {},
   "source": [
    "Michael Encalada"
   ]
  },
  {
   "cell_type": "markdown",
   "id": "d8aeb3d7-f38a-4bda-9970-f2a17e68ded7",
   "metadata": {},
   "source": [
    "### Cargar base de datos"
   ]
  },
  {
   "cell_type": "code",
   "execution_count": null,
   "id": "d76bbbd1-a319-4b3f-9e4a-eec29f6044d4",
   "metadata": {},
   "outputs": [],
   "source": [
    "# data table\n",
    "import pandas as pd\n",
    "linkData=\"https://github.com/SocialAnalytics-StrategicIntelligence/OrganizeExploreAndQuery/raw/main/dataFiles/dengue_ok.pkl\"\n",
    "covid = pd.read_pickle(linkData)\n",
    "covid.info()"
   ]
  }
 ],
 "metadata": {
  "kernelspec": {
   "display_name": "Python 3 (ipykernel)",
   "language": "python",
   "name": "python3"
  },
  "language_info": {
   "codemirror_mode": {
    "name": "ipython",
    "version": 3
   },
   "file_extension": ".py",
   "mimetype": "text/x-python",
   "name": "python",
   "nbconvert_exporter": "python",
   "pygments_lexer": "ipython3",
   "version": "3.11.4"
  }
 },
 "nbformat": 4,
 "nbformat_minor": 5
}
